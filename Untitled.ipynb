{
 "cells": [
  {
   "cell_type": "code",
   "execution_count": 5,
   "metadata": {
    "collapsed": false
   },
   "outputs": [],
   "source": [
    "from sources import sklearn_sources\n",
    "src = sklearn_sources.Blobs(iterations=5, isTraining=True, centers=3, n_features=2)"
   ]
  },
  {
   "cell_type": "code",
   "execution_count": 6,
   "metadata": {
    "collapsed": false
   },
   "outputs": [
    {
     "name": "stdout",
     "output_type": "stream",
     "text": [
      "('t', array([ 2.81630525,  1.01933868]), 1)\n",
      "('t', array([ 1.9263585 ,  4.15243012]), 0)\n",
      "('t', array([ 0.87305123,  4.71438583]), 0)\n",
      "('t', array([-1.08304078,  3.25155659]), 2)\n",
      "('t', array([ 2.19931109,  2.35193717]), 1)\n"
     ]
    }
   ],
   "source": [
    "src.getData()\n",
    "for x in src():\n",
    "    print(x)"
   ]
  },
  {
   "cell_type": "code",
   "execution_count": null,
   "metadata": {
    "collapsed": true
   },
   "outputs": [],
   "source": []
  }
 ],
 "metadata": {
  "kernelspec": {
   "display_name": "Python 3",
   "language": "python",
   "name": "python3"
  },
  "language_info": {
   "codemirror_mode": {
    "name": "ipython",
    "version": 3
   },
   "file_extension": ".py",
   "mimetype": "text/x-python",
   "name": "python",
   "nbconvert_exporter": "python",
   "pygments_lexer": "ipython3",
   "version": "3.5.1"
  }
 },
 "nbformat": 4,
 "nbformat_minor": 0
}
