{
 "cells": [
  {
   "cell_type": "code",
   "execution_count": 1,
   "metadata": {
    "collapsed": true
   },
   "outputs": [],
   "source": [
    "from streamsx.topology.topology import Topology\n",
    "import streamsx.topology.context\n",
    "from knn import knn_sources\n",
    "from knn.knn_model import KNNClassifier"
   ]
  },
  {
   "cell_type": "code",
   "execution_count": 2,
   "metadata": {
    "collapsed": true
   },
   "outputs": [],
   "source": [
    "training_size = 100\n",
    "iterations = 20\n",
    "initDelay = 5\n",
    "\n",
    "t = Topology(\"KNN_Sample\")\n",
    "trainingStream = t.source(knn_sources.KNNTrainingData(training_size))\n",
    "dataStream = t.source(knn_sources.KNNTestData(iterations, initDelay))\n",
    "combinedStreams = trainingStream.union({dataStream})\n",
    "predictionStream = combinedStreams.transform(KNNClassifier(training_size))\n",
    "predictionStream.sink(print)"
   ]
  },
  {
   "cell_type": "code",
   "execution_count": 3,
   "metadata": {
    "collapsed": true
   },
   "outputs": [],
   "source": [
    "streamsx.topology.context.submit(\"STANDALONE\", t.graph)"
   ]
  },
  {
   "cell_type": "code",
   "execution_count": null,
   "metadata": {
    "collapsed": true
   },
   "outputs": [],
   "source": []
  }
 ],
 "metadata": {
  "kernelspec": {
   "display_name": "Python 3",
   "language": "python",
   "name": "python3"
  },
  "language_info": {
   "codemirror_mode": {
    "name": "ipython",
    "version": 3
   },
   "file_extension": ".py",
   "mimetype": "text/x-python",
   "name": "python",
   "nbconvert_exporter": "python",
   "pygments_lexer": "ipython3",
   "version": "3.5.1"
  }
 },
 "nbformat": 4,
 "nbformat_minor": 0
}
